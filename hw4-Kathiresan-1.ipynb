{
 "cells": [
  {
   "cell_type": "markdown",
   "id": "9dc9e84d-1ec6-45f5-97d9-2fc929fff488",
   "metadata": {
    "tags": []
   },
   "source": [
    "## Importing the libraries"
   ]
  },
  {
   "cell_type": "code",
   "execution_count": 1,
   "id": "501f7a7e-02c7-4d61-9f83-7f8a2003c81e",
   "metadata": {},
   "outputs": [
    {
     "name": "stdout",
     "output_type": "stream",
     "text": [
      "True\n",
      "True\n"
     ]
    }
   ],
   "source": [
    "import torch\n",
    "from torch import nn\n",
    "from torch.utils.data import TensorDataset, DataLoader\n",
    "import math\n",
    "# this ensures that the current MacOS version is at least 12.3+\n",
    "print(torch.backends.mps.is_available())\n",
    "# this ensures that the current current PyTorch installation was built with MPS activated.\n",
    "print(torch.backends.mps.is_built())"
   ]
  },
  {
   "cell_type": "code",
   "execution_count": 2,
   "id": "44156130-1657-4e30-8b34-7ed5c5932a6d",
   "metadata": {},
   "outputs": [],
   "source": [
    "import pandas as pd\n",
    "import copy\n",
    "import numpy as np\n",
    "import matplotlib.pyplot as plt\n",
    "from sklearn import metrics"
   ]
  },
  {
   "cell_type": "code",
   "execution_count": 3,
   "id": "58223c02-7b67-46ab-b285-459436ff4690",
   "metadata": {},
   "outputs": [],
   "source": [
    "class color:\n",
    "   PURPLE = '\\033[95m'\n",
    "   CYAN = '\\033[96m'\n",
    "   DARKCYAN = '\\033[36m'\n",
    "   BLUE = '\\033[94m'\n",
    "   GREEN = '\\033[92m'\n",
    "   YELLOW = '\\033[93m'\n",
    "   RED = '\\033[91m'\n",
    "   BOLD = '\\033[1m'\n",
    "   UNDERLINE = '\\033[4m'\n",
    "   END = '\\033[0m'"
   ]
  },
  {
   "cell_type": "markdown",
   "id": "35c831f8-cfd7-45fe-acb1-8ca309d40123",
   "metadata": {
    "tags": []
   },
   "source": [
    "# 3. Movie Genre Classification using FeedFroward NNs"
   ]
  },
  {
   "cell_type": "markdown",
   "id": "86ac0c64-615a-4fa3-96d8-76221c990b1d",
   "metadata": {},
   "source": [
    "1. Download the dataset of HW4 (Click Here!), which consists of three files: train.txt, validation.txt and test.txt. Each line of a file contains a movie name, movie genre and a short description of the movie. The task is to classify movie genre using the given description. Read the dataset and report the data statistics (number of classes, number of instances in each class) for train, validation and test sets."
   ]
  },
  {
   "cell_type": "markdown",
   "id": "ce079148-8bab-4e25-aa30-e0b4fab0d5db",
   "metadata": {
    "tags": []
   },
   "source": [
    "### 3.a Data Statistics"
   ]
  },
  {
   "cell_type": "code",
   "execution_count": 4,
   "id": "fe119a2a-98f0-4b10-b32f-a8e70254e9cd",
   "metadata": {},
   "outputs": [],
   "source": [
    "train_df = pd.read_csv('hw04_data/train.csv')\n",
    "test_df = pd.read_csv('hw04_data/test.csv')\n",
    "validation_df = pd.read_csv('hw04_data/validation.csv')"
   ]
  },
  {
   "cell_type": "code",
   "execution_count": 6,
   "id": "0b49241d-0b70-4cc3-9353-0e8b2a18b33a",
   "metadata": {},
   "outputs": [],
   "source": [
    "def get_DatasetDistribution(dataframe, name):\n",
    "    print(dataframe.genre.value_counts())\n",
    "    dataframe['genre'].value_counts().plot(kind='bar')\n",
    "    plt.title(f\"{name} dataset distribution\")\n",
    "    plt.show()"
   ]
  },
  {
   "cell_type": "code",
   "execution_count": 7,
   "id": "e2c6b42c-bdb2-4cb9-a4a8-9c9091608386",
   "metadata": {},
   "outputs": [
    {
     "name": "stdout",
     "output_type": "stream",
     "text": [
      "TRAINING DATA.................................................\n",
      "drama          5483\n",
      "documentary    4861\n",
      "comedy         3896\n",
      "horror         2104\n",
      "thriller       1568\n",
      "action         1312\n",
      "Name: genre, dtype: int64\n"
     ]
    },
    {
     "data": {
      "image/png": "[encoded data removed]",
      "text/plain": [
       "<Figure size 432x288 with 1 Axes>"
      ]
     },
     "metadata": {
      "needs_background": "light"
     },
     "output_type": "display_data"
    },
    {
     "name": "stdout",
     "output_type": "stream",
     "text": [
      ".................................................\n",
      "TESTING DATA.................................................\n",
      "drama          3012\n",
      "documentary    2716\n",
      "comedy         2241\n",
      "horror         1102\n",
      "thriller        795\n",
      "action          657\n",
      "Name: genre, dtype: int64\n"
     ]
    },
    {
     "data": {
      "image/png": "[encoded data removed]",
      "text/plain": [
       "<Figure size 432x288 with 1 Axes>"
      ]
     },
     "metadata": {
      "needs_background": "light"
     },
     "output_type": "display_data"
    },
    {
     "name": "stdout",
     "output_type": "stream",
     "text": [
      ".................................................\n",
      "VALIDATION DATA.................................................\n",
      "drama          3012\n",
      "documentary    2716\n",
      "comedy         2241\n",
      "horror         1102\n",
      "thriller        795\n",
      "action          657\n",
      "Name: genre, dtype: int64\n"
     ]
    },
    {
     "data": {
      "image/png": "[encoded data removed]",
      "text/plain": [
       "<Figure size 432x288 with 1 Axes>"
      ]
     },
     "metadata": {
      "needs_background": "light"
     },
     "output_type": "display_data"
    },
    {
     "name": "stdout",
     "output_type": "stream",
     "text": [
      ".................................................\n"
     ]
    }
   ],
   "source": [
    "print(\"TRAINING DATA.................................................\")\n",
    "get_DatasetDistribution(train_df,\"Train\")\n",
    "print(\".................................................\")\n",
    "print(\"TESTING DATA.................................................\")\n",
    "get_DatasetDistribution(test_df,\"Test\")\n",
    "print(\".................................................\")\n",
    "print(\"VALIDATION DATA.................................................\")\n",
    "get_DatasetDistribution(validation_df,\"Validation\")\n",
    "print(\".................................................\")"
   ]
  },
  {
   "cell_type": "markdown",
   "id": "107d030b-251e-4c17-895c-c69cbb9e2cf1",
   "metadata": {
    "tags": []
   },
   "source": [
    "### 3.b Feed Forward Neural Network Implementation"
   ]
  },
  {
   "cell_type": "markdown",
   "id": "2144406f-fa72-4135-a8d6-283bc4adf63d",
   "metadata": {},
   "source": [
    "2. Implement a Feed Forward Neural Network with n layers using PyTorch that takes as input the number of layers n and the number of nodes in each layer, Sl for l ∈ {1,...,n}. The loss function must be the cross-entropy loss. Use an activation function of your choice and also choose optimizer, learning rate, batch size, and epoch."
   ]
  },
  {
   "cell_type": "code",
   "execution_count": 8,
   "id": "681c2239-9581-4662-beea-4e7bd14c74c0",
   "metadata": {},
   "outputs": [],
   "source": [
    "from sklearn.preprocessing import LabelEncoder\n",
    "\n",
    "label_encoder = LabelEncoder().fit(train_df.genre)\n",
    "\n",
    "trainX = torch.tensor(train_df[train_df.columns[:-1]].values)\n",
    "trainY = torch.tensor(label_encoder.transform(train_df['genre']))\n",
    "\n",
    "testX = torch.tensor(test_df[test_df.columns[:-1]].values)\n",
    "testY = torch.tensor(label_encoder.transform(test_df.genre.values))\n",
    "\n",
    "validationX = torch.tensor(validation_df[validation_df.columns[:-1]].values)\n",
    "validationY = torch.tensor(label_encoder.transform(validation_df.genre.values))"
   ]
  },
  {
   "cell_type": "code",
   "execution_count": 9,
   "id": "380c5e25-272d-49f7-85aa-d6cacaefd6b8",
   "metadata": {},
   "outputs": [],
   "source": [
    "train_dataset = TensorDataset(trainX, trainY)\n",
    "val_dataset = TensorDataset(testX, testY)\n",
    "test_dataset = TensorDataset(validationX, validationY)\n",
    "\n",
    "train_dataloader = DataLoader(train_dataset, batch_size=64, shuffle=True)\n",
    "val_dataloader = DataLoader(val_dataset, batch_size=64)\n",
    "test_dataloader = DataLoader(test_dataset, batch_size=64)"
   ]
  },
  {
   "cell_type": "code",
   "execution_count": 20,
   "id": "721e120b-93ff-44dd-b85f-f7ee2c87fc50",
   "metadata": {},
   "outputs": [],
   "source": [
    "def makeNN(layers, nodes, activation_function, learning_rate, epochs, train_dataloader, val_dataloader):\n",
    "    labels = train_dataloader.dataset.tensors[1].unique().shape[0]\n",
    "    \n",
    "    class NeuralNetwork(nn.Module):\n",
    "        def __init__(self):\n",
    "            super().__init__()\n",
    "            self.layers = nn.ModuleList()\n",
    "            for i in range(layers):\n",
    "                if i==0:\n",
    "                    self.layers.append(nn.Linear(train_dataloader.dataset.tensors[0].shape[1] ,nodes[i], dtype=torch.float64))\n",
    "                else:\n",
    "                    self.layers.append(nn.Linear(nodes[i-1], nodes[i], dtype=torch.float64))\n",
    "            self.layers.append(nn.Linear(nodes[i-1], labels, dtype=torch.float64))\n",
    "        \n",
    "        def forward(self, X):\n",
    "            x = X\n",
    "            for layer in self.layers[:-1]:\n",
    "                x = activation_function(layer(x))\n",
    "            x = self.layers[-1](x)\n",
    "\n",
    "            return x\n",
    "        \n",
    "    criterion = nn.CrossEntropyLoss()\n",
    "    model = NeuralNetwork()\n",
    "    optimizer = torch.optim.Adam(model.parameters(), lr=learning_rate)\n",
    "    print(model.layers)\n",
    "    \n",
    "    train_losses = []\n",
    "    val_losses = []\n",
    "    best_val_loss = 99999999.0\n",
    "    best_model = None\n",
    "    \n",
    "    for epoch in range(epochs):\n",
    "        running_train_loss = 0.0\n",
    "        running_val_loss = 0.0\n",
    "        model.train()\n",
    "        for i, (data, labels) in enumerate(train_dataloader):\n",
    "            optimizer.zero_grad()\n",
    "            outputs = model(data)\n",
    "            loss = criterion(outputs, labels)\n",
    "            loss.backward()\n",
    "            optimizer.step()\n",
    "            running_train_loss += loss.item()\n",
    "        \n",
    "        train_losses.append(running_train_loss / len(train_dataloader))\n",
    "        model.eval()\n",
    "        with torch.no_grad():\n",
    "            for i, (data, labels) in enumerate(val_dataloader):\n",
    "                outputs = model(data)\n",
    "                loss = criterion(outputs, labels)\n",
    "                running_val_loss += loss.item()\n",
    "            val_losses.append(running_val_loss / len(val_dataloader))\n",
    "        print(f\"--- epoch #{epoch+1}: \\n  || train_loss: {train_losses[-1]:.4f} || validation_loss: {val_losses[-1]:.4f}||\")\n",
    "        \n",
    "        if val_losses[-1] < best_val_loss:\n",
    "            best_val_loss = val_losses[-1]\n",
    "            best_model = copy.deepcopy(model)\n",
    "        \n",
    "    plt.plot(train_losses, label=\"Train Loss\")\n",
    "    plt.plot(val_losses, label=\"Val Loss\")\n",
    "    plt.xlabel(\"Epoch\")\n",
    "    plt.ylabel(\"Loss\")\n",
    "    plt.legend()\n",
    "    plt.show()\n",
    "    \n",
    "    return best_model"
   ]
  },
  {
   "cell_type": "code",
   "execution_count": 21,
   "id": "279dccf1-200f-4212-91e7-c5442bd227c3",
   "metadata": {},
   "outputs": [],
   "source": [
    "def evaluateNN(model, test_dataloader, name, return_arg = False):\n",
    "    model.eval()\n",
    "    with torch.no_grad():\n",
    "        # for data, labels in test_loader\n",
    "        outputs = model(test_dataloader.dataset.tensors[0])\n",
    "        labels = test_dataloader.dataset.tensors[1]\n",
    "        _, predicted = torch.max(outputs.data, 1)\n",
    "\n",
    "        cm = metrics.confusion_matrix(predicted,labels)\n",
    "        accuracies_in_class = (cm.astype('float') / cm.sum(axis=1)[:, np.newaxis]).diagonal()\n",
    "        if return_arg:\n",
    "            return np.round(metrics.accuracy_score(predicted,labels),3), accuracies_in_class\n",
    "        else:\n",
    "            print(\"\\nCategorical Mean Accuracy:\", np.round(metrics.accuracy_score(predicted,labels),3))\n",
    "            print(\"\\n...........................\\n\")\n",
    "            for i in range(len(accuracies_in_class)):\n",
    "                print(\"Class Accuracy \"+ label_encoder.inverse_transform([i])[0] + \" : \"+ str(np.round(accuracies_in_class[i],3)))\n",
    "            print(\"\\n\")\n",
    "            print(metrics.classification_report(predicted, labels))        "
   ]
  },
  {
   "cell_type": "code",
   "execution_count": 22,
   "id": "c54ddb2e-a1f1-4192-98c6-9a372d4e9a8c",
   "metadata": {},
   "outputs": [],
   "source": [
    "activation = nn.Tanh()"
   ]
  },
  {
   "cell_type": "markdown",
   "id": "db102dd9-94c1-43c5-9f85-1769cb2ea708",
   "metadata": {
    "tags": []
   },
   "source": [
    "### 3.c Model 1"
   ]
  },
  {
   "cell_type": "markdown",
   "id": "371affc1-a84a-422b-8ca8-a34b941f5cfb",
   "metadata": {},
   "source": [
    "3. Train the NN with one hidden layer having 64 neurons on the training dataset. Use the val- idation dataset during training to select the best performing model. Evaluate the best model on the test dataset. Report the mean classification accuracy and mean per class accuracy for train set, validation set and test set. Also, plot training and validation losses with respect to epoch in the same figure."
   ]
  },
  {
   "cell_type": "code",
   "execution_count": 23,
   "id": "0423b653-d920-4cc2-bb2f-f680651e4c3c",
   "metadata": {},
   "outputs": [
    {
     "name": "stdout",
     "output_type": "stream",
     "text": [
      "ModuleList(\n",
      "  (0): Linear(in_features=300, out_features=64, bias=True)\n",
      "  (1): Linear(in_features=64, out_features=6, bias=True)\n",
      ")\n",
      "--- epoch #1: \n",
      "  || train_loss: 1.5701 || validation_loss: 1.4468||\n",
      "--- epoch #2: \n",
      "  || train_loss: 1.2988 || validation_loss: 1.2347||\n",
      "--- epoch #3: \n",
      "  || train_loss: 1.1686 || validation_loss: 1.1541||\n",
      "--- epoch #4: \n",
      "  || train_loss: 1.0944 || validation_loss: 1.1098||\n",
      "--- epoch #5: \n",
      "  || train_loss: 1.0627 || validation_loss: 1.0726||\n",
      "--- epoch #6: \n",
      "  || train_loss: 1.0278 || validation_loss: 1.0385||\n",
      "--- epoch #7: \n",
      "  || train_loss: 1.0251 || validation_loss: 1.1235||\n",
      "--- epoch #8: \n",
      "  || train_loss: 1.0112 || validation_loss: 1.1453||\n",
      "--- epoch #9: \n",
      "  || train_loss: 0.9911 || validation_loss: 1.0262||\n",
      "--- epoch #10: \n",
      "  || train_loss: 0.9761 || validation_loss: 1.0678||\n"
     ]
    },
    {
     "data": {
      "image/png": "[encoded data removed]",
      "text/plain": [
       "<Figure size 432x288 with 1 Axes>"
      ]
     },
     "metadata": {
      "needs_background": "light"
     },
     "output_type": "display_data"
    }
   ],
   "source": [
    "model1 = makeNN(layers=1, nodes=[64], activation_function=activation, \n",
    "                                  learning_rate=0.001, epochs=10, train_dataloader=train_dataloader, val_dataloader=val_dataloader)"
   ]
  },
  {
   "cell_type": "code",
   "execution_count": 24,
   "id": "9ef36500-2c11-464f-bade-4fbddf87bf45",
   "metadata": {},
   "outputs": [
    {
     "name": "stdout",
     "output_type": "stream",
     "text": [
      "\n",
      "Categorical Mean Accuracy: 0.618\n",
      "\n",
      "...........................\n",
      "\n",
      "Class Accuracy action : 0.702\n",
      "Class Accuracy comedy : 0.695\n",
      "Class Accuracy documentary : 0.832\n",
      "Class Accuracy drama : 0.478\n",
      "Class Accuracy horror : 0.705\n",
      "Class Accuracy thriller : 0.482\n",
      "\n",
      "\n",
      "              precision    recall  f1-score   support\n",
      "\n",
      "           0       0.27      0.70      0.39       497\n",
      "           1       0.49      0.69      0.57      2725\n",
      "           2       0.77      0.83      0.80      4492\n",
      "           3       0.84      0.48      0.61      9590\n",
      "           4       0.58      0.70      0.64      1727\n",
      "           5       0.06      0.48      0.11       193\n",
      "\n",
      "    accuracy                           0.62     19224\n",
      "   macro avg       0.50      0.65      0.52     19224\n",
      "weighted avg       0.72      0.62      0.64     19224\n",
      "\n",
      "\n",
      "Categorical Mean Accuracy: 0.61\n",
      "\n",
      "...........................\n",
      "\n",
      "Class Accuracy action : 0.683\n",
      "Class Accuracy comedy : 0.681\n",
      "Class Accuracy documentary : 0.814\n",
      "Class Accuracy drama : 0.476\n",
      "Class Accuracy horror : 0.688\n",
      "Class Accuracy thriller : 0.455\n",
      "\n",
      "\n",
      "              precision    recall  f1-score   support\n",
      "\n",
      "           0       0.29      0.68      0.41       278\n",
      "           1       0.43      0.68      0.53      1424\n",
      "           2       0.75      0.81      0.78      2503\n",
      "           3       0.84      0.48      0.61      5290\n",
      "           4       0.62      0.69      0.65       995\n",
      "           5       0.02      0.45      0.04        33\n",
      "\n",
      "    accuracy                           0.61     10523\n",
      "   macro avg       0.49      0.63      0.50     10523\n",
      "weighted avg       0.72      0.61      0.63     10523\n",
      "\n",
      "\n",
      "Categorical Mean Accuracy: 0.595\n",
      "\n",
      "...........................\n",
      "\n",
      "Class Accuracy action : 0.72\n",
      "Class Accuracy comedy : 0.661\n",
      "Class Accuracy documentary : 0.802\n",
      "Class Accuracy drama : 0.465\n",
      "Class Accuracy horror : 0.67\n",
      "Class Accuracy thriller : 0.419\n",
      "\n",
      "\n",
      "              precision    recall  f1-score   support\n",
      "\n",
      "           0       0.31      0.72      0.44       286\n",
      "           1       0.41      0.66      0.51      1387\n",
      "           2       0.74      0.80      0.77      2495\n",
      "           3       0.83      0.46      0.60      5399\n",
      "           4       0.56      0.67      0.61       913\n",
      "           5       0.02      0.42      0.04        43\n",
      "\n",
      "    accuracy                           0.60     10523\n",
      "   macro avg       0.48      0.62      0.49     10523\n",
      "weighted avg       0.71      0.60      0.62     10523\n",
      "\n"
     ]
    }
   ],
   "source": [
    "evaluateNN(model1, train_dataloader, \"Training Metrics\")\n",
    "evaluateNN(model1, test_dataloader, \"Testing Metrics\")\n",
    "evaluateNN(model1, val_dataloader, \"Validation Metrics\")"
   ]
  },
  {
   "cell_type": "markdown",
   "id": "578d2346-af08-4d65-b1dd-e250e76eda58",
   "metadata": {
    "tags": []
   },
   "source": [
    "### 3.d Model 2"
   ]
  },
  {
   "cell_type": "markdown",
   "id": "f7833731-8830-48a1-9ab5-30eae03a2f3a",
   "metadata": {},
   "source": [
    "4. Train the NN with two hidden layers having 64 neurons each on the training dataset. Use the validation dataset during training to select the best performing model. Evaluate the best model on the test dataset. Report the mean classification accuracy and mean per class accu- racy for train set, validation set and test set. Also, plot training and validation losses with respect to epoch in the same figure."
   ]
  },
  {
   "cell_type": "code",
   "execution_count": 25,
   "id": "e11f73a1-fc5b-4686-b671-ec6a94ebfe22",
   "metadata": {},
   "outputs": [
    {
     "name": "stdout",
     "output_type": "stream",
     "text": [
      "ModuleList(\n",
      "  (0): Linear(in_features=300, out_features=64, bias=True)\n",
      "  (1): Linear(in_features=64, out_features=64, bias=True)\n",
      "  (2): Linear(in_features=64, out_features=6, bias=True)\n",
      ")\n",
      "--- epoch #1: \n",
      "  || train_loss: 1.5766 || validation_loss: 1.3602||\n",
      "--- epoch #2: \n",
      "  || train_loss: 1.2730 || validation_loss: 1.2170||\n",
      "--- epoch #3: \n",
      "  || train_loss: 1.1249 || validation_loss: 1.1053||\n",
      "--- epoch #4: \n",
      "  || train_loss: 1.0783 || validation_loss: 1.0742||\n",
      "--- epoch #5: \n",
      "  || train_loss: 1.0348 || validation_loss: 1.1259||\n",
      "--- epoch #6: \n",
      "  || train_loss: 1.0007 || validation_loss: 1.0504||\n",
      "--- epoch #7: \n",
      "  || train_loss: 1.0049 || validation_loss: 1.0936||\n",
      "--- epoch #8: \n",
      "  || train_loss: 0.9766 || validation_loss: 0.9875||\n",
      "--- epoch #9: \n",
      "  || train_loss: 0.9772 || validation_loss: 0.9861||\n",
      "--- epoch #10: \n",
      "  || train_loss: 0.9496 || validation_loss: 1.1328||\n"
     ]
    },
    {
     "data": {
      "image/png": "[encoded data removed]",
      "text/plain": [
       "<Figure size 432x288 with 1 Axes>"
      ]
     },
     "metadata": {
      "needs_background": "light"
     },
     "output_type": "display_data"
    }
   ],
   "source": [
    "model2 = makeNN(layers=2,nodes=[64,64], activation_function=activation,\n",
    "                                  learning_rate=0.001,epochs=10, train_dataloader=train_dataloader, val_dataloader=val_dataloader)"
   ]
  },
  {
   "cell_type": "code",
   "execution_count": 26,
   "id": "f075c871-dc7e-44ca-90c4-3744696c888d",
   "metadata": {},
   "outputs": [
    {
     "name": "stdout",
     "output_type": "stream",
     "text": [
      "\n",
      "Categorical Mean Accuracy: 0.647\n",
      "\n",
      "...........................\n",
      "\n",
      "Class Accuracy action : 0.677\n",
      "Class Accuracy comedy : 0.715\n",
      "Class Accuracy documentary : 0.774\n",
      "Class Accuracy drama : 0.539\n",
      "Class Accuracy horror : 0.711\n",
      "Class Accuracy thriller : 0.403\n",
      "\n",
      "\n",
      "              precision    recall  f1-score   support\n",
      "\n",
      "           0       0.38      0.68      0.48       730\n",
      "           1       0.49      0.71      0.58      2673\n",
      "           2       0.86      0.77      0.81      5383\n",
      "           3       0.76      0.54      0.63      7756\n",
      "           4       0.67      0.71      0.69      1988\n",
      "           5       0.18      0.40      0.25       694\n",
      "\n",
      "    accuracy                           0.65     19224\n",
      "   macro avg       0.56      0.64      0.57     19224\n",
      "weighted avg       0.71      0.65      0.66     19224\n",
      "\n",
      "\n",
      "Categorical Mean Accuracy: 0.63\n",
      "\n",
      "...........................\n",
      "\n",
      "Class Accuracy action : 0.593\n",
      "Class Accuracy comedy : 0.699\n",
      "Class Accuracy documentary : 0.76\n",
      "Class Accuracy drama : 0.53\n",
      "Class Accuracy horror : 0.646\n",
      "Class Accuracy thriller : 0.386\n",
      "\n",
      "\n",
      "              precision    recall  f1-score   support\n",
      "\n",
      "           0       0.39      0.59      0.47       437\n",
      "           1       0.44      0.70      0.54      1406\n",
      "           2       0.83      0.76      0.80      2977\n",
      "           3       0.75      0.53      0.62      4253\n",
      "           4       0.70      0.65      0.67      1201\n",
      "           5       0.12      0.39      0.18       249\n",
      "\n",
      "    accuracy                           0.63     10523\n",
      "   macro avg       0.54      0.60      0.55     10523\n",
      "weighted avg       0.70      0.63      0.65     10523\n",
      "\n",
      "\n",
      "Categorical Mean Accuracy: 0.626\n",
      "\n",
      "...........................\n",
      "\n",
      "Class Accuracy action : 0.649\n",
      "Class Accuracy comedy : 0.706\n",
      "Class Accuracy documentary : 0.741\n",
      "Class Accuracy drama : 0.529\n",
      "Class Accuracy horror : 0.631\n",
      "Class Accuracy thriller : 0.409\n",
      "\n",
      "\n",
      "              precision    recall  f1-score   support\n",
      "\n",
      "           0       0.44      0.65      0.53       447\n",
      "           1       0.42      0.71      0.53      1333\n",
      "           2       0.82      0.74      0.78      3010\n",
      "           3       0.76      0.53      0.62      4320\n",
      "           4       0.67      0.63      0.65      1176\n",
      "           5       0.12      0.41      0.19       237\n",
      "\n",
      "    accuracy                           0.63     10523\n",
      "   macro avg       0.54      0.61      0.55     10523\n",
      "weighted avg       0.70      0.63      0.64     10523\n",
      "\n"
     ]
    }
   ],
   "source": [
    "evaluateNN(model2, train_dataloader, \"Training Metrics\")\n",
    "evaluateNN(model2, test_dataloader, \"Testing Metrics\")\n",
    "evaluateNN(model2, val_dataloader, \"Validation Metrics\")"
   ]
  },
  {
   "cell_type": "markdown",
   "id": "e618304c-4177-4376-8864-013705d20d59",
   "metadata": {
    "tags": []
   },
   "source": [
    "### 3.e Model 3"
   ]
  },
  {
   "cell_type": "markdown",
   "id": "b197eff7-2d44-4ae1-8a1c-e5a63c14dda4",
   "metadata": {},
   "source": [
    "5. Repeat (c) using 128 neurons for the hidden layer."
   ]
  },
  {
   "cell_type": "code",
   "execution_count": 27,
   "id": "c08c529f-690f-4e0e-b7b4-d2f4766fc139",
   "metadata": {},
   "outputs": [
    {
     "name": "stdout",
     "output_type": "stream",
     "text": [
      "ModuleList(\n",
      "  (0): Linear(in_features=300, out_features=128, bias=True)\n",
      "  (1): Linear(in_features=128, out_features=6, bias=True)\n",
      ")\n",
      "--- epoch #1: \n",
      "  || train_loss: 1.5442 || validation_loss: 1.3657||\n",
      "--- epoch #2: \n",
      "  || train_loss: 1.2840 || validation_loss: 1.2036||\n",
      "--- epoch #3: \n",
      "  || train_loss: 1.1472 || validation_loss: 1.2144||\n",
      "--- epoch #4: \n",
      "  || train_loss: 1.1020 || validation_loss: 1.1257||\n",
      "--- epoch #5: \n",
      "  || train_loss: 1.0506 || validation_loss: 1.0466||\n",
      "--- epoch #6: \n",
      "  || train_loss: 1.0320 || validation_loss: 1.0319||\n",
      "--- epoch #7: \n",
      "  || train_loss: 1.0112 || validation_loss: 1.0790||\n",
      "--- epoch #8: \n",
      "  || train_loss: 1.0114 || validation_loss: 1.1259||\n",
      "--- epoch #9: \n",
      "  || train_loss: 0.9888 || validation_loss: 1.1201||\n",
      "--- epoch #10: \n",
      "  || train_loss: 0.9839 || validation_loss: 1.0694||\n"
     ]
    },
    {
     "data": {
      "image/png": "[encoded data removed]",
      "text/plain": [
       "<Figure size 432x288 with 1 Axes>"
      ]
     },
     "metadata": {
      "needs_background": "light"
     },
     "output_type": "display_data"
    }
   ],
   "source": [
    "model3 = makeNN(layers=1, nodes=[128], activation_function=activation, \n",
    "                                  learning_rate=0.001, epochs=10, train_dataloader=train_dataloader, val_dataloader=val_dataloader)"
   ]
  },
  {
   "cell_type": "code",
   "execution_count": 28,
   "id": "2e89e483-e879-414e-87a6-f5bd8d52837f",
   "metadata": {},
   "outputs": [
    {
     "name": "stdout",
     "output_type": "stream",
     "text": [
      "\n",
      "Categorical Mean Accuracy: 0.622\n",
      "\n",
      "...........................\n",
      "\n",
      "Class Accuracy action : 0.728\n",
      "Class Accuracy comedy : 0.639\n",
      "Class Accuracy documentary : 0.762\n",
      "Class Accuracy drama : 0.507\n",
      "Class Accuracy horror : 0.732\n",
      "Class Accuracy thriller : 0.428\n",
      "\n",
      "\n",
      "              precision    recall  f1-score   support\n",
      "\n",
      "           0       0.23      0.73      0.35       412\n",
      "           1       0.54      0.64      0.59      3300\n",
      "           2       0.85      0.76      0.80      5440\n",
      "           3       0.76      0.51      0.61      8208\n",
      "           4       0.50      0.73      0.60      1450\n",
      "           5       0.11      0.43      0.18       414\n",
      "\n",
      "    accuracy                           0.62     19224\n",
      "   macro avg       0.50      0.63      0.52     19224\n",
      "weighted avg       0.70      0.62      0.64     19224\n",
      "\n",
      "\n",
      "Categorical Mean Accuracy: 0.617\n",
      "\n",
      "...........................\n",
      "\n",
      "Class Accuracy action : 0.748\n",
      "Class Accuracy comedy : 0.634\n",
      "Class Accuracy documentary : 0.741\n",
      "Class Accuracy drama : 0.504\n",
      "Class Accuracy horror : 0.728\n",
      "Class Accuracy thriller : 0.365\n",
      "\n",
      "\n",
      "              precision    recall  f1-score   support\n",
      "\n",
      "           0       0.24      0.75      0.37       214\n",
      "           1       0.51      0.63      0.57      1815\n",
      "           2       0.84      0.74      0.79      3071\n",
      "           3       0.75      0.50      0.60      4495\n",
      "           4       0.54      0.73      0.62       824\n",
      "           5       0.05      0.37      0.08       104\n",
      "\n",
      "    accuracy                           0.62     10523\n",
      "   macro avg       0.49      0.62      0.51     10523\n",
      "weighted avg       0.70      0.62      0.64     10523\n",
      "\n",
      "\n",
      "Categorical Mean Accuracy: 0.604\n",
      "\n",
      "...........................\n",
      "\n",
      "Class Accuracy action : 0.775\n",
      "Class Accuracy comedy : 0.619\n",
      "Class Accuracy documentary : 0.726\n",
      "Class Accuracy drama : 0.495\n",
      "Class Accuracy horror : 0.71\n",
      "Class Accuracy thriller : 0.455\n",
      "\n",
      "\n",
      "              precision    recall  f1-score   support\n",
      "\n",
      "           0       0.27      0.77      0.40       231\n",
      "           1       0.50      0.62      0.55      1804\n",
      "           2       0.82      0.73      0.77      3055\n",
      "           3       0.75      0.50      0.60      4570\n",
      "           4       0.48      0.71      0.58       751\n",
      "           5       0.06      0.46      0.11       112\n",
      "\n",
      "    accuracy                           0.60     10523\n",
      "   macro avg       0.48      0.63      0.50     10523\n",
      "weighted avg       0.69      0.60      0.63     10523\n",
      "\n"
     ]
    }
   ],
   "source": [
    "evaluateNN(model3, train_dataloader, \"Training Metrics\")\n",
    "evaluateNN(model3, test_dataloader, \"Testing Metrics\")\n",
    "evaluateNN(model3, val_dataloader, \"Validation Metrics\")"
   ]
  },
  {
   "cell_type": "markdown",
   "id": "ef8282c4-7765-4660-86c6-a3fddaa39559",
   "metadata": {
    "tags": []
   },
   "source": [
    "### 3.f Model 4"
   ]
  },
  {
   "cell_type": "markdown",
   "id": "6d3cf658-876c-42a8-9d56-094f2338747b",
   "metadata": {},
   "source": [
    "6. Repeat (d) using 128 neurons for both the hidden layers.  "
   ]
  },
  {
   "cell_type": "code",
   "execution_count": 29,
   "id": "f03573ce-758c-44f0-aab4-5954b4794f82",
   "metadata": {},
   "outputs": [
    {
     "name": "stdout",
     "output_type": "stream",
     "text": [
      "ModuleList(\n",
      "  (0): Linear(in_features=300, out_features=128, bias=True)\n",
      "  (1): Linear(in_features=128, out_features=128, bias=True)\n",
      "  (2): Linear(in_features=128, out_features=6, bias=True)\n",
      ")\n",
      "--- epoch #1: \n",
      "  || train_loss: 1.4799 || validation_loss: 1.2787||\n",
      "--- epoch #2: \n",
      "  || train_loss: 1.2035 || validation_loss: 1.2434||\n",
      "--- epoch #3: \n",
      "  || train_loss: 1.1089 || validation_loss: 1.1844||\n",
      "--- epoch #4: \n",
      "  || train_loss: 1.0640 || validation_loss: 1.1739||\n",
      "--- epoch #5: \n",
      "  || train_loss: 1.0427 || validation_loss: 1.0452||\n",
      "--- epoch #6: \n",
      "  || train_loss: 1.0276 || validation_loss: 1.1148||\n",
      "--- epoch #7: \n",
      "  || train_loss: 0.9986 || validation_loss: 1.0220||\n",
      "--- epoch #8: \n",
      "  || train_loss: 1.0107 || validation_loss: 1.0682||\n",
      "--- epoch #9: \n",
      "  || train_loss: 1.0008 || validation_loss: 1.2398||\n",
      "--- epoch #10: \n",
      "  || train_loss: 0.9687 || validation_loss: 1.0124||\n"
     ]
    },
    {
     "data": {
      "image/png": "[encoded data removed]",
      "text/plain": [
       "<Figure size 432x288 with 1 Axes>"
      ]
     },
     "metadata": {
      "needs_background": "light"
     },
     "output_type": "display_data"
    }
   ],
   "source": [
    "model4 = makeNN(2,[128,128], activation,0.001,10, train_dataloader, val_dataloader)"
   ]
  },
  {
   "cell_type": "code",
   "execution_count": 31,
   "id": "40901485-5ae8-4cc3-a94b-f37fd665a8f1",
   "metadata": {},
   "outputs": [
    {
     "name": "stdout",
     "output_type": "stream",
     "text": [
      "\n",
      "Categorical Mean Accuracy: 0.652\n",
      "\n",
      "...........................\n",
      "\n",
      "Class Accuracy action : 0.566\n",
      "Class Accuracy comedy : 0.756\n",
      "Class Accuracy documentary : 0.751\n",
      "Class Accuracy drama : 0.557\n",
      "Class Accuracy horror : 0.685\n",
      "Class Accuracy thriller : 0.5\n",
      "\n",
      "\n",
      "              precision    recall  f1-score   support\n",
      "\n",
      "           0       0.59      0.57      0.58      1377\n",
      "           1       0.43      0.76      0.55      2200\n",
      "           2       0.87      0.75      0.81      5660\n",
      "           3       0.74      0.56      0.64      7274\n",
      "           4       0.75      0.68      0.71      2295\n",
      "           5       0.13      0.50      0.21       418\n",
      "\n",
      "    accuracy                           0.65     19224\n",
      "   macro avg       0.59      0.64      0.58     19224\n",
      "weighted avg       0.72      0.65      0.67     19224\n",
      "\n",
      "\n",
      "Categorical Mean Accuracy: 0.624\n",
      "\n",
      "...........................\n",
      "\n",
      "Class Accuracy action : 0.462\n",
      "Class Accuracy comedy : 0.732\n",
      "Class Accuracy documentary : 0.733\n",
      "Class Accuracy drama : 0.547\n",
      "Class Accuracy horror : 0.606\n",
      "Class Accuracy thriller : 0.505\n",
      "\n",
      "\n",
      "              precision    recall  f1-score   support\n",
      "\n",
      "           0       0.59      0.46      0.52       842\n",
      "           1       0.37      0.73      0.49      1139\n",
      "           2       0.86      0.73      0.79      3176\n",
      "           3       0.71      0.55      0.62      3909\n",
      "           4       0.74      0.61      0.67      1346\n",
      "           5       0.07      0.50      0.12       111\n",
      "\n",
      "    accuracy                           0.62     10523\n",
      "   macro avg       0.56      0.60      0.54     10523\n",
      "weighted avg       0.71      0.62      0.65     10523\n",
      "\n",
      "\n",
      "Categorical Mean Accuracy: 0.619\n",
      "\n",
      "...........................\n",
      "\n",
      "Class Accuracy action : 0.472\n",
      "Class Accuracy comedy : 0.743\n",
      "Class Accuracy documentary : 0.72\n",
      "Class Accuracy drama : 0.546\n",
      "Class Accuracy horror : 0.59\n",
      "Class Accuracy thriller : 0.545\n",
      "\n",
      "\n",
      "              precision    recall  f1-score   support\n",
      "\n",
      "           0       0.60      0.47      0.53       834\n",
      "           1       0.35      0.74      0.48      1070\n",
      "           2       0.85      0.72      0.78      3198\n",
      "           3       0.72      0.55      0.62      3969\n",
      "           4       0.72      0.59      0.65      1351\n",
      "           5       0.07      0.54      0.12       101\n",
      "\n",
      "    accuracy                           0.62     10523\n",
      "   macro avg       0.55      0.60      0.53     10523\n",
      "weighted avg       0.71      0.62      0.65     10523\n",
      "\n"
     ]
    }
   ],
   "source": [
    "evaluateNN(model4, train_dataloader, \"Training Metrics\")\n",
    "evaluateNN(model4, test_dataloader, \"Testing Metrics\")\n",
    "evaluateNN(model4, val_dataloader, \"Validation Metrics\")"
   ]
  },
  {
   "cell_type": "markdown",
   "id": "c376b821-fc7c-4695-82e9-ad4762c43fce",
   "metadata": {
    "tags": []
   },
   "source": [
    "### 3.g Model Comparison"
   ]
  },
  {
   "cell_type": "markdown",
   "id": "02e9cef2-0b5f-4ac5-854f-fefcaeb7bcd5",
   "metadata": {},
   "source": [
    "7. Compare the results and explain the effects of the number of hidden layers and number of neurons."
   ]
  },
  {
   "cell_type": "code",
   "execution_count": 33,
   "id": "f2ad99e0-cbfd-4b14-b93d-632e2bf51e54",
   "metadata": {},
   "outputs": [],
   "source": [
    "value_map = {\"model 1\": \"One hidden layer with 64 neurons\",\n",
    "            \"model 2\" : \"Two hidden layers with 64 neurons\",\n",
    "            \"model 3\" : \"One hidden layer with 128 neurons\",\n",
    "            \"model 4\" : \"Two hidden layer with 128 neurons\"}\n",
    "\n",
    "model1_acc, model1_byclass = evaluateNN(model1, test_dataloader, \"Testing Metrics\", True)\n",
    "model2_acc, model2_byclass = evaluateNN(model2, test_dataloader, \"Testing Metrics\", True)\n",
    "model3_acc, model3_byclass = evaluateNN(model3, test_dataloader, \"Testing Metrics\", True)\n",
    "model4_acc, model4_bylass = evaluateNN(model4, test_dataloader, \"Testing Metrics\", True)"
   ]
  },
  {
   "cell_type": "code",
   "execution_count": 34,
   "id": "85c8c0d2-ca03-407b-b6c4-d0f64d79c2ee",
   "metadata": {},
   "outputs": [
    {
     "data": {
      "image/png": "[encoded data removed]",
      "text/plain": [
       "<Figure size 432x288 with 1 Axes>"
      ]
     },
     "metadata": {
      "needs_background": "light"
     },
     "output_type": "display_data"
    }
   ],
   "source": [
    "plt.bar(\"Model 1\" ,model1_acc, label = value_map['model 1'])\n",
    "plt.text(\"Model 1\", model1_acc , str(model1_acc))\n",
    "\n",
    "plt.bar('Model 2', model2_acc, label = value_map['model 2'])\n",
    "plt.text(\"Model 2\", model2_acc , str(model2_acc))\n",
    "\n",
    "plt.bar('Model 3', model3_acc, label = value_map['model 3'])\n",
    "plt.text(\"Model 3\", model3_acc , str(model3_acc))\n",
    "\n",
    "plt.bar('Model 4', model4_acc, label = value_map['model 4'])\n",
    "plt.text(\"Model 4\", model4_acc , str(model4_acc))\n",
    "\n",
    "plt.title(\"Model-wise comparions of Mean Accuracy\")\n",
    "plt.legend(loc=\"upper center\",bbox_to_anchor =(1,0.5))\n",
    "plt.show()"
   ]
  },
  {
   "cell_type": "markdown",
   "id": "c7f3282a-a130-43fe-92c8-4c3835b8c5f9",
   "metadata": {
    "tags": []
   },
   "source": [
    "**The mean accuracy is highest when the model is trained with 64 neurons and 2 hidden layers with a mean accuracy of 0.63**"
   ]
  },
  {
   "cell_type": "code",
   "execution_count": 35,
   "id": "41b5340e-fa98-40b8-9858-00adb7e0dbea",
   "metadata": {},
   "outputs": [
    {
     "data": {
      "image/png": "[encoded data removed]",
      "text/plain": [
       "<Figure size 432x288 with 1 Axes>"
      ]
     },
     "metadata": {
      "needs_background": "light"
     },
     "output_type": "display_data"
    },
    {
     "data": {
      "image/png": "[encoded data removed]",
      "text/plain": [
       "<Figure size 432x288 with 1 Axes>"
      ]
     },
     "metadata": {
      "needs_background": "light"
     },
     "output_type": "display_data"
    }
   ],
   "source": [
    "x = label_encoder.classes_\n",
    "\n",
    "plt.bar(x,model1_byclass, label = value_map['model 1'])\n",
    "plt.bar(x,model2_byclass, label = value_map['model 2'])\n",
    "plt.bar(x,model3_byclass, label = value_map['model 3'])\n",
    "plt.bar(x,model4_bylass, label = value_map['model 4'])\n",
    "plt.title(\"Comparing Mean Accuracy across models on a class level\")\n",
    "plt.legend(loc=\"center left\",bbox_to_anchor =(1,0.5))\n",
    "plt.show()\n",
    "\n",
    "plt.plot(x,model1_byclass, label = value_map['model 1'])\n",
    "plt.plot(x,model2_byclass, label = value_map['model 2'])\n",
    "plt.plot(x,model3_byclass, label = value_map['model 3'])\n",
    "plt.plot(x,model4_bylass, label = value_map['model 4'])\n",
    "plt.title(\"Comparing Mean Accuracy across models on a class levele\")\n",
    "plt.legend(loc=\"center left\",bbox_to_anchor =(1,0.5))\n",
    "plt.show()"
   ]
  },
  {
   "cell_type": "markdown",
   "id": "5a811ad3-c78c-49bc-97f2-fdb15e2fa5ee",
   "metadata": {},
   "source": [
    "**INFERENCE**\n",
    "\n",
    "It can be seen from the comparison of perfromance that the 128 Neuron - 1 Hidden Layer is better and balanced across all classes than the the 128 Neuron - 2 Hidden Layers across the majority of labels\n",
    "\n",
    "However there are some exceptions across certain classes as seen in the line and bar graph\n",
    "\n",
    "Thus we can generalize that there is a certain balance between the number of neurons and hidden layers.\n",
    "\n",
    "The more number of neurons can increase the complexity of the model and hurt its balanced performance. However, increasing the number of hidden layers improves the balanced performance across classes, and less hidden layers leads to unpredictable performances.\n"
   ]
  },
  {
   "cell_type": "markdown",
   "id": "810d39fd-8975-44f4-94c2-ef5ea6539e7d",
   "metadata": {},
   "source": [
    "# 4. Image Recognition using Convolutional Neural Nets (CNNs)"
   ]
  },
  {
   "cell_type": "markdown",
   "id": "f7185cb5-e84e-4fa1-8968-d89e4ea1f0b8",
   "metadata": {},
   "source": [
    "Image Recognition using Convolutional Neural Nets (CNNs). In this exercise, you will implement a CNN using PyTorch to classify CIFAR10 images from 10 classes."
   ]
  },
  {
   "cell_type": "markdown",
   "id": "5ee38b88-fe23-4c39-b8c6-54c8d253a2d0",
   "metadata": {},
   "source": [
    "1) DownloadCIFAR10datasetfromhttps://www.cs.toronto.edu/ ̃kriz/cifar. html. There are 5 files for training sets and 1 file for test set. Use the first four training files for training, the 5-th training file for validation, and the test file for testing. The task is to classify a given image into one of 10 classes. Read the webpage/dataset and report the data statistics (number of instances in each class) for train, validation and test sets. The data for each image has three channels (R,G,B) and each pixel value is between 0 and 255. Normalize the images so that the maximum and minimum pixel values are between -1 and +1."
   ]
  },
  {
   "cell_type": "markdown",
   "id": "6bcce896-c7fb-4fd0-84eb-f86bd4151eeb",
   "metadata": {
    "tags": []
   },
   "source": [
    "## 4.1 Data Prep"
   ]
  },
  {
   "cell_type": "code",
   "execution_count": 36,
   "id": "ddc7e08d-86ce-4ddb-ba0d-ba7a81e0c8a3",
   "metadata": {},
   "outputs": [],
   "source": [
    "def unpickle(file):\n",
    "    import pickle\n",
    "    with open(file, 'rb') as fo:\n",
    "        dict = pickle.load(fo, encoding='bytes')\n",
    "    return dict"
   ]
  },
  {
   "cell_type": "code",
   "execution_count": 39,
   "id": "e417ad46-4f33-41a7-bdcd-da90da20241c",
   "metadata": {},
   "outputs": [],
   "source": [
    "train_1 = unpickle('cifar-10-batches-py/data_batch_1')\n",
    "train_2 = unpickle('cifar-10-batches-py/data_batch_2')\n",
    "train_3 = unpickle('cifar-10-batches-py/data_batch_3')\n",
    "train_4 = unpickle('cifar-10-batches-py/data_batch_4')\n",
    "val_dict = unpickle('cifar-10-batches-py/data_batch_5')\n",
    "test_dict = unpickle('cifar-10-batches-py/test_batch')"
   ]
  },
  {
   "cell_type": "code",
   "execution_count": 40,
   "id": "b9a23774-9038-401a-a9b7-56ff6c2f531d",
   "metadata": {},
   "outputs": [],
   "source": [
    "train_dict = {}\n",
    "train_dict[b'data'] = np.concatenate((train_1[b'data'], train_2[b'data'], \n",
    "                                      train_3[b'data'], train_4[b'data']), axis=0).reshape(-1,3,32,32)\n",
    "train_dict[b'labels'] = ([*train_1[b'labels'], *train_2[b'labels'], \n",
    "    *train_3[b'labels'], *train_4[b'labels']])\n",
    "train_dict[b'filenames'] = ([*train_1[b'filenames'], *train_2[b'filenames'], \n",
    "    *train_3[b'filenames'], *train_4[b'filenames']])"
   ]
  },
  {
   "cell_type": "code",
   "execution_count": 41,
   "id": "ff333a8f-a424-496f-b7b9-d850cd97e8f0",
   "metadata": {},
   "outputs": [],
   "source": [
    "import torchvision.transforms as transforms\n",
    "\n",
    "def normalize(images):\n",
    "    transform_normalize = transforms.Compose([\n",
    "        transforms.ToPILImage(),\n",
    "        transforms.ToTensor(),\n",
    "        transforms.Normalize(mean=[0.5, 0.5, 0.5], std=[0.5, 0.5, 0.5])\n",
    "    ])\n",
    "    \n",
    "    transformImg = []\n",
    "    for image in images:\n",
    "        transformImg.append(transform_normalize(image.reshape(32,32,3)).reshape(-1,3,32,32))\n",
    "        \n",
    "    result = torch.cat(transformImg, dim=0) \n",
    "    return result\n",
    "    "
   ]
  },
  {
   "cell_type": "code",
   "execution_count": 42,
   "id": "92da01aa-b98a-4fc0-9ce7-0ea2e18c7297",
   "metadata": {},
   "outputs": [],
   "source": [
    "train_dict[b'data'] = normalize(train_dict[b'data'])\n",
    "test_dict[b'data'] = normalize(test_dict[b'data'])\n",
    "val_dict[b'data'] = normalize(val_dict[b'data'])"
   ]
  },
  {
   "cell_type": "markdown",
   "id": "0ba77268-b458-437d-a6c0-c10031c034fc",
   "metadata": {},
   "source": [
    "## CNN Implementation"
   ]
  },
  {
   "cell_type": "markdown",
   "id": "6dfa6a55-b2a4-4253-a0c7-16ed95c49d60",
   "metadata": {},
   "source": [
    "2. Implement a CNN as follows: the first convolutional layer, gets a 3x32x32 image and applies 6 filters/kernels of size 5x5, followed by applying ReLu activation and then max-pooling with a window of size 2x2. The second convolution layer receives the input from the first layer and applies 16 filters/kernels of size 5x5, followed by applying ReLu activation and then max-pooling with a window of size 2x2. The results are then given to a feedforward NN, with three layers with 120 (with ReLu), 84 (with ReLu), 10 (you can use either softmax or no activation function) neurons. The loss function must be the cross-entropy loss. Use SGD optimizer, learning rate of 0.01 and momentum of 0.9. You need to choose the batch size, and the number of epochs."
   ]
  },
  {
   "cell_type": "code",
   "execution_count": 43,
   "id": "2db7a54d-f342-409d-95af-75a8831b069b",
   "metadata": {},
   "outputs": [],
   "source": [
    "trainX = train_dict[b'data']\n",
    "trainY = torch.tensor(train_dict[b'labels'])\n",
    "\n",
    "testX = test_dict[b'data']\n",
    "testY = torch.tensor(test_dict[b'labels'])\n",
    "\n",
    "validationX = val_dict[b'data']\n",
    "validationY = torch.tensor(val_dict[b'labels'])"
   ]
  },
  {
   "cell_type": "code",
   "execution_count": 46,
   "id": "544b966a-1d56-4299-8186-b4b9becdda7c",
   "metadata": {},
   "outputs": [],
   "source": [
    "train_dataset = TensorDataset(trainX, trainY)\n",
    "val_dataset = TensorDataset(testX, testY)\n",
    "test_dataset = TensorDataset(validationX, validationY)\n",
    "\n",
    "train_dataloader = DataLoader(train_dataset, batch_size=256, shuffle=True)\n",
    "val_dataloader = DataLoader(val_dataset, batch_size=256)\n",
    "test_dataloader = DataLoader(test_dataset, batch_size=256)"
   ]
  },
  {
   "cell_type": "code",
   "execution_count": 47,
   "id": "31a6754e-df76-4060-bdfd-ccd3e611258c",
   "metadata": {},
   "outputs": [],
   "source": [
    "class CNN(nn.Module):\n",
    "    def __init__(self):\n",
    "        super(CNN, self).__init__()\n",
    "        self.conv1 = nn.Conv2d(3, 6, kernel_size=5)\n",
    "        self.conv2 = nn.Conv2d(6, 16, kernel_size=5)\n",
    "        self.fc1 = nn.Linear(16*5*5, 120)\n",
    "        self.fc2 = nn.Linear(120, 84)\n",
    "        self.fc3 = nn.Linear(84, 10)\n",
    "        self.pool_layer = nn.MaxPool2d(kernel_size=2)\n",
    "        self.activation = nn.ReLU()\n",
    "        \n",
    "    def forward(self, x):\n",
    "        x = self.activation(self.conv1(x))\n",
    "        x = self.pool_layer(x)\n",
    "        x = self.activation(self.conv2(x))\n",
    "        x = self.pool_layer(x)\n",
    "        x = x.view(-1, 16*5*5)\n",
    "        x = self.activation(self.fc1(x))\n",
    "        x = self.activation(self.fc2(x))\n",
    "        x = self.fc3(x)\n",
    "        return x"
   ]
  },
  {
   "cell_type": "code",
   "execution_count": 48,
   "id": "8231f1e8-1aec-4fbb-87fa-29b109304f73",
   "metadata": {},
   "outputs": [],
   "source": [
    "# Define the loss function and optimizer\n",
    "model = CNN()\n",
    "criterion = nn.CrossEntropyLoss()\n",
    "optimizer = torch.optim.SGD(model.parameters(), lr=0.01, momentum=0.9)"
   ]
  },
  {
   "cell_type": "code",
   "execution_count": 49,
   "id": "80b54d56-7a75-4d70-9ccc-dff24afcc0a1",
   "metadata": {},
   "outputs": [
    {
     "name": "stdout",
     "output_type": "stream",
     "text": [
      "CNN(\n",
      "  (conv1): Conv2d(3, 6, kernel_size=(5, 5), stride=(1, 1))\n",
      "  (conv2): Conv2d(6, 16, kernel_size=(5, 5), stride=(1, 1))\n",
      "  (fc1): Linear(in_features=400, out_features=120, bias=True)\n",
      "  (fc2): Linear(in_features=120, out_features=84, bias=True)\n",
      "  (fc3): Linear(in_features=84, out_features=10, bias=True)\n",
      "  (pool_layer): MaxPool2d(kernel_size=2, stride=2, padding=0, dilation=1, ceil_mode=False)\n",
      "  (activation): ReLU()\n",
      ")\n",
      "--- epoch #1: \n",
      "  || train_loss: 2.2011 || validation_loss: 2.0092||\n",
      "--- epoch #2: \n",
      "  || train_loss: 1.9224 || validation_loss: 1.8093||\n",
      "--- epoch #3: \n",
      "  || train_loss: 1.7554 || validation_loss: 1.6869||\n",
      "--- epoch #4: \n",
      "  || train_loss: 1.6503 || validation_loss: 1.6237||\n",
      "--- epoch #5: \n",
      "  || train_loss: 1.5731 || validation_loss: 1.5427||\n",
      "--- epoch #6: \n",
      "  || train_loss: 1.4952 || validation_loss: 1.4771||\n",
      "--- epoch #7: \n",
      "  || train_loss: 1.4336 || validation_loss: 1.4272||\n",
      "--- epoch #8: \n",
      "  || train_loss: 1.3937 || validation_loss: 1.3949||\n",
      "--- epoch #9: \n",
      "  || train_loss: 1.3549 || validation_loss: 1.3670||\n",
      "--- epoch #10: \n",
      "  || train_loss: 1.3195 || validation_loss: 1.3762||\n",
      "--- epoch #11: \n",
      "  || train_loss: 1.2827 || validation_loss: 1.3021||\n",
      "--- epoch #12: \n",
      "  || train_loss: 1.2541 || validation_loss: 1.2835||\n",
      "--- epoch #13: \n",
      "  || train_loss: 1.2397 || validation_loss: 1.3172||\n",
      "--- epoch #14: \n",
      "  || train_loss: 1.2021 || validation_loss: 1.2596||\n",
      "--- epoch #15: \n",
      "  || train_loss: 1.1924 || validation_loss: 1.2782||\n",
      "--- epoch #16: \n",
      "  || train_loss: 1.1589 || validation_loss: 1.2688||\n",
      "--- epoch #17: \n",
      "  || train_loss: 1.1287 || validation_loss: 1.2452||\n",
      "--- epoch #18: \n",
      "  || train_loss: 1.1109 || validation_loss: 1.2641||\n",
      "--- epoch #19: \n",
      "  || train_loss: 1.0919 || validation_loss: 1.2306||\n",
      "--- epoch #20: \n",
      "  || train_loss: 1.0724 || validation_loss: 1.2303||\n",
      "--- epoch #21: \n",
      "  || train_loss: 1.0551 || validation_loss: 1.2125||\n",
      "--- epoch #22: \n",
      "  || train_loss: 1.0299 || validation_loss: 1.2422||\n",
      "--- epoch #23: \n",
      "  || train_loss: 1.0249 || validation_loss: 1.2426||\n",
      "--- epoch #24: \n",
      "  || train_loss: 0.9982 || validation_loss: 1.2630||\n",
      "--- epoch #25: \n",
      "  || train_loss: 0.9767 || validation_loss: 1.2625||\n",
      "--- epoch #26: \n",
      "  || train_loss: 0.9576 || validation_loss: 1.2612||\n",
      "--- epoch #27: \n",
      "  || train_loss: 0.9385 || validation_loss: 1.2361||\n",
      "--- epoch #28: \n",
      "  || train_loss: 0.9269 || validation_loss: 1.2427||\n",
      "--- epoch #29: \n",
      "  || train_loss: 0.9155 || validation_loss: 1.2592||\n",
      "--- epoch #30: \n",
      "  || train_loss: 0.8913 || validation_loss: 1.2914||\n"
     ]
    },
    {
     "data": {
      "image/png": "[encoded data removed]",
      "text/plain": [
       "<Figure size 432x288 with 1 Axes>"
      ]
     },
     "metadata": {
      "needs_background": "light"
     },
     "output_type": "display_data"
    }
   ],
   "source": [
    "criterion = nn.CrossEntropyLoss()\n",
    "model = CNN()\n",
    "optimizer = torch.optim.SGD(model.parameters(), lr=0.01, momentum=0.9)\n",
    "\n",
    "print(model)\n",
    "\n",
    "epochs = 30\n",
    "train_losses = []\n",
    "val_losses = []\n",
    "best_val_loss = 99999999.0\n",
    "best_model = None\n",
    "\n",
    "for epoch in range(epochs):\n",
    "    running_train_loss = 0.0\n",
    "    running_val_loss = 0.0\n",
    "    model.train()\n",
    "    for i, (data, labels) in enumerate(train_dataloader):\n",
    "        optimizer.zero_grad()\n",
    "        outputs = model(data)\n",
    "        loss = criterion(outputs, labels)\n",
    "        loss.backward()\n",
    "        optimizer.step()\n",
    "        running_train_loss += loss.item()\n",
    "\n",
    "    train_losses.append(running_train_loss / len(train_dataloader))\n",
    "    model.eval()\n",
    "    with torch.no_grad():\n",
    "        for i, (data, labels) in enumerate(val_dataloader):\n",
    "            outputs = model(data)\n",
    "            loss = criterion(outputs, labels)\n",
    "            running_val_loss += loss.item()\n",
    "        val_losses.append(running_val_loss / len(val_dataloader))\n",
    "    print(f\"--- epoch #{epoch+1}: \\n  || train_loss: {train_losses[-1]:.4f} || validation_loss: {val_losses[-1]:.4f}||\")\n",
    "\n",
    "    if val_losses[-1] < best_val_loss:\n",
    "        best_val_loss = val_losses[-1]\n",
    "        best_model = copy.deepcopy(model)\n",
    "\n",
    "plt.plot(train_losses, label=\"Train Loss\")\n",
    "plt.plot(val_losses, label=\"Val Loss\")\n",
    "plt.xlabel(\"Epoch\")\n",
    "plt.ylabel(\"Loss\")\n",
    "plt.legend()\n",
    "plt.show()\n"
   ]
  },
  {
   "cell_type": "code",
   "execution_count": 52,
   "id": "83dc9b03-db81-44a5-9e7f-0097b261b785",
   "metadata": {},
   "outputs": [
    {
     "name": "stdout",
     "output_type": "stream",
     "text": [
      "---------------------\u001b[1mTest\u001b[0m---------------------\n",
      "\n",
      "Mean Accuracy Score across all categories: 0.569\n",
      "\n",
      "\n",
      "Accuracy for class 0 : \u001b[1m0.577\u001b[0m\n",
      "Accuracy for class 1 : \u001b[1m0.658\u001b[0m\n",
      "Accuracy for class 2 : \u001b[1m0.548\u001b[0m\n",
      "Accuracy for class 3 : \u001b[1m0.394\u001b[0m\n",
      "Accuracy for class 4 : \u001b[1m0.507\u001b[0m\n",
      "Accuracy for class 5 : \u001b[1m0.507\u001b[0m\n",
      "Accuracy for class 6 : \u001b[1m0.625\u001b[0m\n",
      "Accuracy for class 7 : \u001b[1m0.593\u001b[0m\n",
      "Accuracy for class 8 : \u001b[1m0.722\u001b[0m\n",
      "Accuracy for class 9 : \u001b[1m0.567\u001b[0m\n",
      "\n",
      "\n"
     ]
    }
   ],
   "source": [
    "def eval_cnn(model, test_loader, name, return_arg = False):\n",
    "    model.eval()\n",
    "    with torch.no_grad():\n",
    "        # for data, labels in test_loader\n",
    "        outputs = model(test_loader.dataset.tensors[0])\n",
    "        labels = test_loader.dataset.tensors[1]\n",
    "        _, predicted = torch.max(outputs.data, 1)\n",
    "\n",
    "        cm = metrics.confusion_matrix(predicted,labels)\n",
    "        accuracies_in_class = (cm.astype('float') / cm.sum(axis=1)[:, np.newaxis]).diagonal()\n",
    "        if return_arg:\n",
    "            return np.round(metrics.accuracy_score(predicted,labels),3), accuracies_in_class\n",
    "        else:\n",
    "            print(\"---------------------\"+ color.BOLD + name + color.END+\"---------------------\")\n",
    "            print(\"\\nMean Accuracy Score across all categories:\", np.round(metrics.accuracy_score(predicted,labels),3))\n",
    "            print(\"\\n\")\n",
    "            for i in range(len(accuracies_in_class)):\n",
    "                print(\"Accuracy for class \"+ str(i) + \" : \"+ color.BOLD + str(np.round(accuracies_in_class[i],3)) + color.END)\n",
    "            print(\"\\n\")\n",
    "eval_cnn(best_model, test_dataloader, \"Test\")"
   ]
  },
  {
   "cell_type": "code",
   "execution_count": null,
   "id": "276e7144-e22d-47ee-b35e-9cdccc1a6d51",
   "metadata": {},
   "outputs": [],
   "source": []
  },
  {
   "cell_type": "code",
   "execution_count": null,
   "id": "2aec350f-afa8-4cfc-82e5-dd9038e1122e",
   "metadata": {},
   "outputs": [],
   "source": []
  }
 ],
 "metadata": {
  "kernelspec": {
   "display_name": "Python 3.9.12 ('base')",
   "language": "python",
   "name": "python3"
  },
  "language_info": {
   "codemirror_mode": {
    "name": "ipython",
    "version": 3
   },
   "file_extension": ".py",
   "mimetype": "text/x-python",
   "name": "python",
   "nbconvert_exporter": "python",
   "pygments_lexer": "ipython3",
   "version": "3.9.12"
  },
  "vscode": {
   "interpreter": {
    "hash": "620f4fcbadc1db2f686b23a4537e9f91f33e33851b94d48ada5fb8f81de691ba"
   }
  }
 },
 "nbformat": 4,
 "nbformat_minor": 5
}
